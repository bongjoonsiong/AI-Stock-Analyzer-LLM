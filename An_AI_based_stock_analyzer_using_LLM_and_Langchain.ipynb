{
  "nbformat": 4,
  "nbformat_minor": 0,
  "metadata": {
    "colab": {
      "provenance": [],
      "authorship_tag": "ABX9TyMa2IdWdDRetWydq07m80HK",
      "include_colab_link": true
    },
    "kernelspec": {
      "name": "python3",
      "display_name": "Python 3"
    },
    "language_info": {
      "name": "python"
    }
  },
  "cells": [
    {
      "cell_type": "markdown",
      "metadata": {
        "id": "view-in-github",
        "colab_type": "text"
      },
      "source": [
        "<a href=\"https://colab.research.google.com/github/bongjoonsiong/AI-Stock-Analyzer-LLM/blob/main/An_AI_based_stock_analyzer_using_LLM_and_Langchain.ipynb\" target=\"_parent\"><img src=\"https://colab.research.google.com/assets/colab-badge.svg\" alt=\"Open In Colab\"/></a>"
      ]
    },
    {
      "cell_type": "markdown",
      "source": [
        "\n",
        "## Using LLM & Langchain to build a Stock Analyzer\n",
        "I'm certain you've come across these recent buzzwords: AI, LLMs, GPT, Langchain. These technologies are incredibly valuable and transformative, offering limitless applications. In this project, I endeavored to create a compelling application utilizing Language Models and Langchain within the Finance domain."
      ],
      "metadata": {
        "id": "_sfQe4oXZPvv"
      }
    },
    {
      "cell_type": "markdown",
      "source": [
        "*An artificial intelligence bot designed to assist with stock investments by leveraging advanced language models to analyze both real-time and historical stock-related information.*"
      ],
      "metadata": {
        "id": "6IUsYzwFZfR4"
      }
    },
    {
      "cell_type": "markdown",
      "source": [
        "## Rational of AI Stock Analyzer\n",
        "A Langchian and LLM-based bot that can take real-time as well as historic data to make investment analysis.\n",
        "\n",
        "The concept is to fetch the real time and historic data from Yahoo Finance that includes the following:\n",
        "\n",
        "1. Historic Stock price data.\n",
        "\n",
        "2. Company’s financial statement\n",
        "\n",
        "3. Latest company related news\n",
        "\n",
        "LLM will do a fundamental analysis on a particular stock that prompted by the AI Stock Analyzer, based on the information ingested from Yahoo Finance."
      ],
      "metadata": {
        "id": "kLzZS-tKZrpV"
      }
    },
    {
      "cell_type": "markdown",
      "source": [
        "## Main Code"
      ],
      "metadata": {
        "id": "6BkaEPQ5aZlY"
      }
    },
    {
      "cell_type": "code",
      "source": [
        "#Import All Required Library\n",
        "from bs4 import BeautifulSoup\n",
        "import requests\n",
        "import yfinance as yf"
      ],
      "metadata": {
        "id": "A7BSPX10big2"
      },
      "execution_count": 1,
      "outputs": []
    },
    {
      "cell_type": "markdown",
      "source": [
        "## Create Helpers Functions"
      ],
      "metadata": {
        "id": "EuEVVs87b_Hf"
      }
    },
    {
      "cell_type": "code",
      "source": [
        "# Fetch stock data from Yahoo Finance\n",
        "def get_stock_price(ticker,history=5):\n",
        "    # time.sleep(4) #To avoid rate limit error\n",
        "    if \".\" in ticker:\n",
        "        ticker=ticker.split(\".\")[0]\n",
        "    ticker=ticker+\".NS\"\n",
        "    stock = yf.Ticker(ticker)\n",
        "    df = stock.history(period=\"1y\")\n",
        "    df=df[[\"Close\",\"Volume\"]]\n",
        "    df.index=[str(x).split()[0] for x in list(df.index)]\n",
        "    df.index.rename(\"Date\",inplace=True)\n",
        "    df=df[-history:]\n",
        "    # print(df.columns)\n",
        "\n",
        "    return df.to_string()\n",
        "\n",
        "# Script to scrap top5 google news for given company name\n",
        "def google_query(search_term):\n",
        "    if \"news\" not in search_term:\n",
        "        search_term=search_term+\" stock news\"\n",
        "    url=f\"https://www.google.com/search?q={search_term}&cr=countryIN\"\n",
        "    url=re.sub(r\"\\s\",\"+\",url)\n",
        "    return url\n",
        "\n",
        "def get_recent_stock_news(company_name):\n",
        "    # time.sleep(4) #To avoid rate limit error\n",
        "    headers={'User-Agent': 'Mozilla/5.0 (Windows NT 10.0; Win64; x64) AppleWebKit/537.36 (KHTML, like Gecko) Chrome/102.0.0.0 Safari/537.36'}\n",
        "\n",
        "    g_query=google_query(company_name)\n",
        "    res=requests.get(g_query,headers=headers).text\n",
        "    soup=BeautifulSoup(res,\"html.parser\")\n",
        "    news=[]\n",
        "    for n in soup.find_all(\"div\",\"n0jPhd ynAwRc tNxQIb nDgy9d\"):\n",
        "        news.append(n.text)\n",
        "    for n in soup.find_all(\"div\",\"IJl0Z\"):\n",
        "        news.append(n.text)\n",
        "\n",
        "    if len(news)>6:\n",
        "        news=news[:4]\n",
        "    else:\n",
        "        news=news\n",
        "    news_string=\"\"\n",
        "    for i,n in enumerate(news):\n",
        "        news_string+=f\"{i}. {n}\\n\"\n",
        "    top5_news=\"Recent News:\\n\\n\"+news_string\n",
        "\n",
        "    return top5_news\n",
        "\n",
        "\n",
        "# Fetch financial statements from Yahoo Finance\n",
        "def get_financial_statements(ticker):\n",
        "    # time.sleep(4) #To avoid rate limit error\n",
        "    if \".\" in ticker:\n",
        "        ticker=ticker.split(\".\")[0]\n",
        "    else:\n",
        "        ticker=ticker\n",
        "    ticker=ticker+\".NS\"\n",
        "    company = yf.Ticker(ticker)\n",
        "    balance_sheet = company.balance_sheet\n",
        "    if balance_sheet.shape[1]>=3:\n",
        "        balance_sheet=balance_sheet.iloc[:,:3]    # Remove 4th years data\n",
        "    balance_sheet=balance_sheet.dropna(how=\"any\")\n",
        "    balance_sheet = balance_sheet.to_string()\n",
        "    return balance_sheet"
      ],
      "metadata": {
        "id": "s0pJeYs6byHL"
      },
      "execution_count": 2,
      "outputs": []
    },
    {
      "cell_type": "markdown",
      "source": [
        "## Approach 1:\n",
        "Agents in Langhian are basically something that is responsible for the decision making. I used zeroshot ReaAct agent, which stands for resposnce and action, it basically continuously thinks and takes action based on the thought. The problem with this approach is that it get stuck with infinite loop of thought and action as the end goal of stock analysis seems complicated for it and it cannot confidently decide the next action resulting in an endless loop or bad results that are not much related to input query.\n",
        "\n",
        "Lets look into the code-"
      ],
      "metadata": {
        "id": "1lfrMKmxe-Lr"
      }
    },
    {
      "cell_type": "code",
      "source": [
        "!pip install langchain -q\n",
        "!pip install duckduckgo-search\n",
        "print(\"done\")"
      ],
      "metadata": {
        "colab": {
          "base_uri": "https://localhost:8080/"
        },
        "id": "1m55iRKViggD",
        "outputId": "902dc24b-3b95-4e4c-f3dc-4f1d490a7fcc"
      },
      "execution_count": 10,
      "outputs": [
        {
          "output_type": "stream",
          "name": "stdout",
          "text": [
            "Collecting duckduckgo-search\n",
            "  Downloading duckduckgo_search-3.9.5-py3-none-any.whl (25 kB)\n",
            "Collecting aiofiles>=23.2.1 (from duckduckgo-search)\n",
            "  Downloading aiofiles-23.2.1-py3-none-any.whl (15 kB)\n",
            "Requirement already satisfied: click>=8.1.7 in /usr/local/lib/python3.10/dist-packages (from duckduckgo-search) (8.1.7)\n",
            "Requirement already satisfied: lxml>=4.9.3 in /usr/local/lib/python3.10/dist-packages (from duckduckgo-search) (4.9.3)\n",
            "Collecting httpx[brotli,http2,socks]>=0.25.1 (from duckduckgo-search)\n",
            "  Downloading httpx-0.25.1-py3-none-any.whl (75 kB)\n",
            "\u001b[2K     \u001b[90m━━━━━━━━━━━━━━━━━━━━━━━━━━━━━━━━━━━━━━━━\u001b[0m \u001b[32m75.0/75.0 kB\u001b[0m \u001b[31m4.7 MB/s\u001b[0m eta \u001b[36m0:00:00\u001b[0m\n",
            "\u001b[?25hRequirement already satisfied: anyio in /usr/local/lib/python3.10/dist-packages (from httpx[brotli,http2,socks]>=0.25.1->duckduckgo-search) (3.7.1)\n",
            "Requirement already satisfied: certifi in /usr/local/lib/python3.10/dist-packages (from httpx[brotli,http2,socks]>=0.25.1->duckduckgo-search) (2023.7.22)\n",
            "Collecting httpcore (from httpx[brotli,http2,socks]>=0.25.1->duckduckgo-search)\n",
            "  Downloading httpcore-1.0.2-py3-none-any.whl (76 kB)\n",
            "\u001b[2K     \u001b[90m━━━━━━━━━━━━━━━━━━━━━━━━━━━━━━━━━━━━━━━━\u001b[0m \u001b[32m76.9/76.9 kB\u001b[0m \u001b[31m8.8 MB/s\u001b[0m eta \u001b[36m0:00:00\u001b[0m\n",
            "\u001b[?25hRequirement already satisfied: idna in /usr/local/lib/python3.10/dist-packages (from httpx[brotli,http2,socks]>=0.25.1->duckduckgo-search) (3.4)\n",
            "Requirement already satisfied: sniffio in /usr/local/lib/python3.10/dist-packages (from httpx[brotli,http2,socks]>=0.25.1->duckduckgo-search) (1.3.0)\n",
            "Collecting socksio==1.* (from httpx[brotli,http2,socks]>=0.25.1->duckduckgo-search)\n",
            "  Downloading socksio-1.0.0-py3-none-any.whl (12 kB)\n",
            "Collecting h2<5,>=3 (from httpx[brotli,http2,socks]>=0.25.1->duckduckgo-search)\n",
            "  Downloading h2-4.1.0-py3-none-any.whl (57 kB)\n",
            "\u001b[2K     \u001b[90m━━━━━━━━━━━━━━━━━━━━━━━━━━━━━━━━━━━━━━━━\u001b[0m \u001b[32m57.5/57.5 kB\u001b[0m \u001b[31m6.7 MB/s\u001b[0m eta \u001b[36m0:00:00\u001b[0m\n",
            "\u001b[?25hCollecting brotli (from httpx[brotli,http2,socks]>=0.25.1->duckduckgo-search)\n",
            "  Downloading Brotli-1.1.0-cp310-cp310-manylinux_2_5_x86_64.manylinux1_x86_64.manylinux_2_12_x86_64.manylinux2010_x86_64.whl (3.0 MB)\n",
            "\u001b[2K     \u001b[90m━━━━━━━━━━━━━━━━━━━━━━━━━━━━━━━━━━━━━━━━\u001b[0m \u001b[32m3.0/3.0 MB\u001b[0m \u001b[31m37.4 MB/s\u001b[0m eta \u001b[36m0:00:00\u001b[0m\n",
            "\u001b[?25hCollecting hyperframe<7,>=6.0 (from h2<5,>=3->httpx[brotli,http2,socks]>=0.25.1->duckduckgo-search)\n",
            "  Downloading hyperframe-6.0.1-py3-none-any.whl (12 kB)\n",
            "Collecting hpack<5,>=4.0 (from h2<5,>=3->httpx[brotli,http2,socks]>=0.25.1->duckduckgo-search)\n",
            "  Downloading hpack-4.0.0-py3-none-any.whl (32 kB)\n",
            "Requirement already satisfied: exceptiongroup in /usr/local/lib/python3.10/dist-packages (from anyio->httpx[brotli,http2,socks]>=0.25.1->duckduckgo-search) (1.1.3)\n",
            "Collecting h11<0.15,>=0.13 (from httpcore->httpx[brotli,http2,socks]>=0.25.1->duckduckgo-search)\n",
            "  Downloading h11-0.14.0-py3-none-any.whl (58 kB)\n",
            "\u001b[2K     \u001b[90m━━━━━━━━━━━━━━━━━━━━━━━━━━━━━━━━━━━━━━━━\u001b[0m \u001b[32m58.3/58.3 kB\u001b[0m \u001b[31m7.3 MB/s\u001b[0m eta \u001b[36m0:00:00\u001b[0m\n",
            "\u001b[?25hInstalling collected packages: brotli, socksio, hyperframe, hpack, h11, aiofiles, httpcore, h2, httpx, duckduckgo-search\n",
            "Successfully installed aiofiles-23.2.1 brotli-1.1.0 duckduckgo-search-3.9.5 h11-0.14.0 h2-4.1.0 hpack-4.0.0 httpcore-1.0.2 httpx-0.25.1 hyperframe-6.0.1 socksio-1.0.0\n",
            "done\n"
          ]
        }
      ]
    },
    {
      "cell_type": "code",
      "source": [
        "from langchain.tools import Tool, DuckDuckGoSearchRun\n",
        "search=DuckDuckGoSearchRun()\n",
        "\n",
        "# Making tool list\n",
        "\n",
        "tools=[\n",
        "    Tool(\n",
        "        name=\"get stock data\",\n",
        "        func=get_stock_price,\n",
        "        description=\"Use when you are asked to evaluate or analyze a stock. This will output historic share price data. You should input the the stock ticker to it \"\n",
        "    ),\n",
        "    Tool(\n",
        "        name=\"DuckDuckGo Search\",\n",
        "        func=search.run,\n",
        "        description=\"Use only when you need to get NSE/BSE stock ticker from internet, you can also get recent stock related news. Dont use it for any other analysis or task\"\n",
        "    ),\n",
        "    Tool(\n",
        "        name=\"get recent news\",\n",
        "        func=get_recent_stock_news,\n",
        "        description=\"Use this to fetch recent news about stocks\"\n",
        "    ),\n",
        "\n",
        "    Tool(\n",
        "        name=\"get financial statements\",\n",
        "        func=get_financial_statements,\n",
        "        description=\"Use this to get financial statement of the company. With the help of this data companys historic performance can be evaluaated. You should input stock ticker to it\"\n",
        "    )\n",
        "]\n",
        "\n",
        "from langchain.agents import initialize_agent\n",
        "\n",
        "\n",
        "# new_prompt=\"<Plz refere github repo>\"\n",
        "# zero_shot_agent.agent.llm_chain.prompt.template=new_prompt\n",
        "\n",
        "zero_shot_agent=initialize_agent(\n",
        "    llm=llm,\n",
        "    agent=\"zero-shot-react-description\",\n",
        "    tools=tools,\n",
        "    verbose=True,\n",
        "    max_iteration=4,\n",
        "    return_intermediate_steps=True,\n",
        "    handle_parsing_errors=True\n",
        ")\n",
        "\n",
        "zero_shot_agent(\"Is Bajaj Finance a good investment choice right now?\")\n"
      ],
      "metadata": {
        "colab": {
          "base_uri": "https://localhost:8080/",
          "height": 245
        },
        "id": "NUX7eBa-fDjR",
        "outputId": "72408a90-b67d-4291-8bfd-732c66445690"
      },
      "execution_count": 12,
      "outputs": [
        {
          "output_type": "error",
          "ename": "NameError",
          "evalue": "ignored",
          "traceback": [
            "\u001b[0;31m---------------------------------------------------------------------------\u001b[0m",
            "\u001b[0;31mNameError\u001b[0m                                 Traceback (most recent call last)",
            "\u001b[0;32m<ipython-input-12-2b957dd16eda>\u001b[0m in \u001b[0;36m<cell line: 36>\u001b[0;34m()\u001b[0m\n\u001b[1;32m     35\u001b[0m \u001b[0;34m\u001b[0m\u001b[0m\n\u001b[1;32m     36\u001b[0m zero_shot_agent=initialize_agent(\n\u001b[0;32m---> 37\u001b[0;31m     \u001b[0mllm\u001b[0m\u001b[0;34m=\u001b[0m\u001b[0mllm\u001b[0m\u001b[0;34m,\u001b[0m\u001b[0;34m\u001b[0m\u001b[0;34m\u001b[0m\u001b[0m\n\u001b[0m\u001b[1;32m     38\u001b[0m     \u001b[0magent\u001b[0m\u001b[0;34m=\u001b[0m\u001b[0;34m\"zero-shot-react-description\"\u001b[0m\u001b[0;34m,\u001b[0m\u001b[0;34m\u001b[0m\u001b[0;34m\u001b[0m\u001b[0m\n\u001b[1;32m     39\u001b[0m     \u001b[0mtools\u001b[0m\u001b[0;34m=\u001b[0m\u001b[0mtools\u001b[0m\u001b[0;34m,\u001b[0m\u001b[0;34m\u001b[0m\u001b[0;34m\u001b[0m\u001b[0m\n",
            "\u001b[0;31mNameError\u001b[0m: name 'llm' is not defined"
          ]
        }
      ]
    },
    {
      "cell_type": "markdown",
      "source": [
        "Note this code is a continuation of what we have discussed before. Here we are just converting the data scrapping functions into langchain tools and making a list so that it becomes accessible for the agent. In the later part an agent is being defined with initialize_agent class. It takes llm, tool list, agent type as arguments. The output of this approach seems okayish. This approach may work or may not, Further improvements can be made by modifying the prompt"
      ],
      "metadata": {
        "id": "C28SgAtafLEX"
      }
    },
    {
      "cell_type": "markdown",
      "source": [
        "## Approach2-\n",
        "Stock analysis being a complicated task, the ReAct agent was not able to decide proper steps. So in this approach I tried defining the steps before the analysis itself. First all the data is fetched and then feeded into llm for comprehensive analysis."
      ],
      "metadata": {
        "id": "oBVwvVCWfUW7"
      }
    },
    {
      "cell_type": "markdown",
      "source": [
        "# Using OpenAI Funcion"
      ],
      "metadata": {
        "id": "gIUfWXonfc6n"
      }
    },
    {
      "cell_type": "code",
      "source": [
        "!pip install --upgrade openai\n"
      ],
      "metadata": {
        "colab": {
          "base_uri": "https://localhost:8080/"
        },
        "id": "mmUeQ2UakvHF",
        "outputId": "2d59fbc3-a523-4f7d-9b3c-388b95669fe2"
      },
      "execution_count": 33,
      "outputs": [
        {
          "output_type": "stream",
          "name": "stdout",
          "text": [
            "Requirement already satisfied: openai==0.28 in /usr/local/lib/python3.10/dist-packages (0.28.0)\n",
            "Requirement already satisfied: requests>=2.20 in /usr/local/lib/python3.10/dist-packages (from openai==0.28) (2.31.0)\n",
            "Requirement already satisfied: tqdm in /usr/local/lib/python3.10/dist-packages (from openai==0.28) (4.66.1)\n",
            "Requirement already satisfied: aiohttp in /usr/local/lib/python3.10/dist-packages (from openai==0.28) (3.8.6)\n",
            "Requirement already satisfied: charset-normalizer<4,>=2 in /usr/local/lib/python3.10/dist-packages (from requests>=2.20->openai==0.28) (3.3.2)\n",
            "Requirement already satisfied: idna<4,>=2.5 in /usr/local/lib/python3.10/dist-packages (from requests>=2.20->openai==0.28) (3.4)\n",
            "Requirement already satisfied: urllib3<3,>=1.21.1 in /usr/local/lib/python3.10/dist-packages (from requests>=2.20->openai==0.28) (2.0.7)\n",
            "Requirement already satisfied: certifi>=2017.4.17 in /usr/local/lib/python3.10/dist-packages (from requests>=2.20->openai==0.28) (2023.7.22)\n",
            "Requirement already satisfied: attrs>=17.3.0 in /usr/local/lib/python3.10/dist-packages (from aiohttp->openai==0.28) (23.1.0)\n",
            "Requirement already satisfied: multidict<7.0,>=4.5 in /usr/local/lib/python3.10/dist-packages (from aiohttp->openai==0.28) (6.0.4)\n",
            "Requirement already satisfied: async-timeout<5.0,>=4.0.0a3 in /usr/local/lib/python3.10/dist-packages (from aiohttp->openai==0.28) (4.0.3)\n",
            "Requirement already satisfied: yarl<2.0,>=1.0 in /usr/local/lib/python3.10/dist-packages (from aiohttp->openai==0.28) (1.9.2)\n",
            "Requirement already satisfied: frozenlist>=1.1.1 in /usr/local/lib/python3.10/dist-packages (from aiohttp->openai==0.28) (1.4.0)\n",
            "Requirement already satisfied: aiosignal>=1.1.2 in /usr/local/lib/python3.10/dist-packages (from aiohttp->openai==0.28) (1.3.1)\n"
          ]
        }
      ]
    },
    {
      "cell_type": "code",
      "source": [
        "#Openai function calling\n",
        "\n",
        "import json\n",
        "import openai\n",
        "\n",
        "#Below code is from STACKOVERFLOW to resolve openai 0.28 version issue\n",
        "import os\n",
        "from openai import OpenAI\n",
        "\n",
        "# End of Stack Overflow solution..\n",
        "\n",
        "function=[\n",
        "        {\n",
        "        \"name\": \"get_company_Stock_ticker\",\n",
        "        \"description\": \"This will get the indian NSE/BSE stock ticker of the company\",\n",
        "        \"parameters\": {\n",
        "            \"type\": \"object\",\n",
        "            \"properties\": {\n",
        "                \"ticker_symbol\": {\n",
        "                    \"type\": \"string\",\n",
        "                    \"description\": \"This is the stock symbol of the company.\",\n",
        "                },\n",
        "\n",
        "                \"company_name\": {\n",
        "                    \"type\": \"string\",\n",
        "                    \"description\": \"This is the name of the company given in query\",\n",
        "                }\n",
        "            },\n",
        "            \"required\": [\"company_name\",\"ticker_symbol\"],\n",
        "        },\n",
        "    }\n",
        "]\n",
        "\n",
        "print(f\"Will start main section next\")"
      ],
      "metadata": {
        "colab": {
          "base_uri": "https://localhost:8080/"
        },
        "id": "4bxaN81ffgtr",
        "outputId": "34a47762-5d1d-4b98-c9a4-b92123ed0e85"
      },
      "execution_count": 39,
      "outputs": [
        {
          "output_type": "stream",
          "name": "stdout",
          "text": [
            "Will start main section next\n"
          ]
        }
      ]
    },
    {
      "cell_type": "markdown",
      "source": [
        "# Main Code"
      ],
      "metadata": {
        "id": "zyqkOjyjfnWX"
      }
    },
    {
      "cell_type": "code",
      "source": [
        "!openai migrate"
      ],
      "metadata": {
        "colab": {
          "base_uri": "https://localhost:8080/"
        },
        "id": "ZU0IFusHmDQ5",
        "outputId": "5c9146e3-868b-490f-ca79-e611e8d70a5d"
      },
      "execution_count": 24,
      "outputs": [
        {
          "output_type": "stream",
          "name": "stdout",
          "text": [
            "Retrieving Grit CLI metadata from https://api.keygen.sh/v1/accounts/custodian-dev/artifacts/marzano-linux-x64\n",
            "\n",
            "\u001b[1m\u001b[2mAnalyzing\u001b[0m \u001b[1m\u001b[2m                                                                      \u001b[0m\n",
            "\u001b[2K\u001b[2A\n",
            "\u001b[1m\u001b[2mAnalyzing\u001b[0m \u001b[1m\u001b[2m                                                                      \u001b[0m\n",
            "\u001b[2K\u001b[2A\n",
            "\u001b[1m\u001b[2mAnalyzing\u001b[0m \u001b[1m\u001b[2m                                                                      \u001b[0m\n",
            "\u001b[2K\u001b[2AProcessed 0 files and found 0 matches\n"
          ]
        }
      ]
    },
    {
      "cell_type": "code",
      "source": [
        "\n",
        "def get_stock_ticker(query):\n",
        "    response = OpenAi.ChatCompletion.create(\n",
        "            model=\"gpt-3.5-turbo\",\n",
        "            temperature=0,\n",
        "            messages=[{\n",
        "                \"role\":\"user\",\n",
        "                \"content\":f\"Given the user request, what is the comapany name and the company stock ticker ?: {query}?\"\n",
        "            }],\n",
        "            functions=function,\n",
        "            function_call={\"name\": \"get_company_Stock_ticker\"},\n",
        "    )\n",
        "    message = response[\"choices\"][0][\"message\"]\n",
        "    arguments = json.loads(message[\"function_call\"][\"arguments\"])\n",
        "    company_name = arguments[\"company_name\"]\n",
        "    company_ticker = arguments[\"ticker_symbol\"]\n",
        "    return company_name,company_ticker\n",
        "\n",
        "def Anazlyze_stock(query):\n",
        "    #agent.run(query) Outputs Company name, Ticker\n",
        "    Company_name,ticker=get_stock_ticker(query)\n",
        "    print({\"Query\":query,\"Company_name\":Company_name,\"Ticker\":ticker})\n",
        "    stock_data=get_stock_price(ticker,history=10)\n",
        "    stock_financials=get_financial_statements(ticker)\n",
        "    stock_news=get_recent_stock_news(Company_name)\n",
        "\n",
        "    # available_information=f\"Stock Price: {stock_data}\\n\\nStock Financials: {stock_financials}\\n\\nStock News: {stock_news}\"\n",
        "    available_information=f\"Stock Financials: {stock_financials}\\n\\nStock News: {stock_news}\"\n",
        "\n",
        "    print(\"\\n\\nAnalyzing.....\\n\")\n",
        "    analysis=llm(f\"Give detail stock analysis, Use the available data and provide investment recommendation. \\\n",
        "             The user is fully aware about the investment risk, dont include any kind of warning like 'It is recommended to conduct further research and analysis or consult with a financial advisor before making an investment decision' in the answer \\\n",
        "             User question: {query} \\\n",
        "             You have the following information available about {Company_name}. Write (5-8) pointwise investment analysis to answer user query, At the end conclude with proper explaination.Try to Give positives and negatives  : \\\n",
        "              {available_information} \"\n",
        "             )\n",
        "    print(analysis)\n",
        "\n",
        "    return analysis"
      ],
      "metadata": {
        "id": "iSTK2EHwfYlS"
      },
      "execution_count": 40,
      "outputs": []
    },
    {
      "cell_type": "markdown",
      "source": [
        "Recently Open ai has introduced function call, which is really helpful with which we can get structured output as we want in json format from LLM. In this approach, the same is being used. First stock ticker is extracted with the help of function calls, As most of the later code was dependent on this single argument. React agent in approach 1 was failing in this step only, resulting in d eviation of all the future steps. Once stock ticker is extracted correctly, in the later stages stock data, news, and financial statements are simply fetched by inputting the ticker symbol. Once all the stock related information is available, it is then utilized by the LLM for the comprehensive stock analysis."
      ],
      "metadata": {
        "id": "BwIhnE0kfvwB"
      }
    },
    {
      "cell_type": "markdown",
      "source": [
        "# Eg- sample input and output of the bot-"
      ],
      "metadata": {
        "id": "0sWGlHIQf0xX"
      }
    },
    {
      "cell_type": "markdown",
      "source": [
        "Input"
      ],
      "metadata": {
        "id": "NTH9uDwZf5Mt"
      }
    },
    {
      "cell_type": "code",
      "source": [
        "!openai migrate"
      ],
      "metadata": {
        "colab": {
          "base_uri": "https://localhost:8080/"
        },
        "id": "pbx0v7R7mTlm",
        "outputId": "0a270d4f-a1a1-4570-fbf4-0477e5e5c96c"
      },
      "execution_count": 27,
      "outputs": [
        {
          "output_type": "stream",
          "name": "stdout",
          "text": [
            "\n",
            "\u001b[1m\u001b[2mAnalyzing\u001b[0m \u001b[1m\u001b[2m                                                                      \u001b[0m\n",
            "░░░░░░░░░░░░░░░░░░░░░░░░░░░░░░░░░░░░░░░░░░░░░░░░░░░░░░░░░░░░░░░░░░░░░░░░░░░░ 0/2\u001b[2A\r\u001b[2K\u001b[1B\r\u001b[2K\u001b[1B\r\u001b[2K\u001b[2A\n",
            "\u001b[1m\u001b[2mAnalyzing\u001b[0m \u001b[1m\u001b[2m                                                                      \u001b[0m\n",
            "██████████████████████████████████████░░░░░░░░░░░░░░░░░░░░░░░░░░░░░░░░░░░░░░ 1/2\u001b[2A\r\u001b[2K\u001b[1B\r\u001b[2K\u001b[1B\r\u001b[2K\u001b[2A\n",
            "\u001b[1m\u001b[2mAnalyzing\u001b[0m \u001b[1m\u001b[2m                                                                      \u001b[0m\n",
            "████████████████████████████████████████████████████████████████████████████ 2/2\u001b[2A\r\u001b[2K\u001b[1B\r\u001b[2K\u001b[1B\r\u001b[2K\u001b[2AProcessed 0 files and found 0 matches\n"
          ]
        }
      ]
    },
    {
      "cell_type": "code",
      "source": [
        "Anazlyze_stock(\"Is it a good time to invest in Yes Bank?\")\n",
        "\n"
      ],
      "metadata": {
        "colab": {
          "base_uri": "https://localhost:8080/",
          "height": 338
        },
        "id": "MonXQpIXf9rF",
        "outputId": "e5ede5d9-7baf-48c1-e24e-190631df04c3"
      },
      "execution_count": 41,
      "outputs": [
        {
          "output_type": "error",
          "ename": "NameError",
          "evalue": "ignored",
          "traceback": [
            "\u001b[0;31m---------------------------------------------------------------------------\u001b[0m",
            "\u001b[0;31mNameError\u001b[0m                                 Traceback (most recent call last)",
            "\u001b[0;32m<ipython-input-41-c77ebdfd33cc>\u001b[0m in \u001b[0;36m<cell line: 1>\u001b[0;34m()\u001b[0m\n\u001b[0;32m----> 1\u001b[0;31m \u001b[0mAnazlyze_stock\u001b[0m\u001b[0;34m(\u001b[0m\u001b[0;34m\"Is it a good time to invest in Yes Bank?\"\u001b[0m\u001b[0;34m)\u001b[0m\u001b[0;34m\u001b[0m\u001b[0;34m\u001b[0m\u001b[0m\n\u001b[0m\u001b[1;32m      2\u001b[0m \u001b[0;34m\u001b[0m\u001b[0m\n",
            "\u001b[0;32m<ipython-input-40-9242228e1320>\u001b[0m in \u001b[0;36mAnazlyze_stock\u001b[0;34m(query)\u001b[0m\n\u001b[1;32m     18\u001b[0m \u001b[0;32mdef\u001b[0m \u001b[0mAnazlyze_stock\u001b[0m\u001b[0;34m(\u001b[0m\u001b[0mquery\u001b[0m\u001b[0;34m)\u001b[0m\u001b[0;34m:\u001b[0m\u001b[0;34m\u001b[0m\u001b[0;34m\u001b[0m\u001b[0m\n\u001b[1;32m     19\u001b[0m     \u001b[0;31m#agent.run(query) Outputs Company name, Ticker\u001b[0m\u001b[0;34m\u001b[0m\u001b[0;34m\u001b[0m\u001b[0m\n\u001b[0;32m---> 20\u001b[0;31m     \u001b[0mCompany_name\u001b[0m\u001b[0;34m,\u001b[0m\u001b[0mticker\u001b[0m\u001b[0;34m=\u001b[0m\u001b[0mget_stock_ticker\u001b[0m\u001b[0;34m(\u001b[0m\u001b[0mquery\u001b[0m\u001b[0;34m)\u001b[0m\u001b[0;34m\u001b[0m\u001b[0;34m\u001b[0m\u001b[0m\n\u001b[0m\u001b[1;32m     21\u001b[0m     \u001b[0mprint\u001b[0m\u001b[0;34m(\u001b[0m\u001b[0;34m{\u001b[0m\u001b[0;34m\"Query\"\u001b[0m\u001b[0;34m:\u001b[0m\u001b[0mquery\u001b[0m\u001b[0;34m,\u001b[0m\u001b[0;34m\"Company_name\"\u001b[0m\u001b[0;34m:\u001b[0m\u001b[0mCompany_name\u001b[0m\u001b[0;34m,\u001b[0m\u001b[0;34m\"Ticker\"\u001b[0m\u001b[0;34m:\u001b[0m\u001b[0mticker\u001b[0m\u001b[0;34m}\u001b[0m\u001b[0;34m)\u001b[0m\u001b[0;34m\u001b[0m\u001b[0;34m\u001b[0m\u001b[0m\n\u001b[1;32m     22\u001b[0m     \u001b[0mstock_data\u001b[0m\u001b[0;34m=\u001b[0m\u001b[0mget_stock_price\u001b[0m\u001b[0;34m(\u001b[0m\u001b[0mticker\u001b[0m\u001b[0;34m,\u001b[0m\u001b[0mhistory\u001b[0m\u001b[0;34m=\u001b[0m\u001b[0;36m10\u001b[0m\u001b[0;34m)\u001b[0m\u001b[0;34m\u001b[0m\u001b[0;34m\u001b[0m\u001b[0m\n",
            "\u001b[0;32m<ipython-input-40-9242228e1320>\u001b[0m in \u001b[0;36mget_stock_ticker\u001b[0;34m(query)\u001b[0m\n\u001b[1;32m      1\u001b[0m \u001b[0;32mdef\u001b[0m \u001b[0mget_stock_ticker\u001b[0m\u001b[0;34m(\u001b[0m\u001b[0mquery\u001b[0m\u001b[0;34m)\u001b[0m\u001b[0;34m:\u001b[0m\u001b[0;34m\u001b[0m\u001b[0;34m\u001b[0m\u001b[0m\n\u001b[0;32m----> 2\u001b[0;31m     response = OpenAi.ChatCompletion.create(\n\u001b[0m\u001b[1;32m      3\u001b[0m             \u001b[0mmodel\u001b[0m\u001b[0;34m=\u001b[0m\u001b[0;34m\"gpt-3.5-turbo\"\u001b[0m\u001b[0;34m,\u001b[0m\u001b[0;34m\u001b[0m\u001b[0;34m\u001b[0m\u001b[0m\n\u001b[1;32m      4\u001b[0m             \u001b[0mtemperature\u001b[0m\u001b[0;34m=\u001b[0m\u001b[0;36m0\u001b[0m\u001b[0;34m,\u001b[0m\u001b[0;34m\u001b[0m\u001b[0;34m\u001b[0m\u001b[0m\n\u001b[1;32m      5\u001b[0m             messages=[{\n",
            "\u001b[0;31mNameError\u001b[0m: name 'OpenAi' is not defined"
          ]
        }
      ]
    },
    {
      "cell_type": "markdown",
      "source": [
        "#Output:\n",
        "'Query': 'Is it a good time to invest in Yes Bank?', 'Company_name': 'Yes Bank', 'Ticker': 'YESBANK'\n",
        "Analyzing..... *italicized text*\n",
        "\n",
        "**Investment Thesis for Yes Bank:**\n",
        "1. Financial Performance: Yes Bank has shown improvement in its financials over the past three years. The net debt has increased, indicating higher borrowing, but the tangible book value and common stock equity have also increased, suggesting a stronger financial position.\n",
        "2. Total Capitalization: The total capitalization of Yes Bank has been consistently increasing, indicating a growing investor base and potential for future growth. This can be seen as a positive sign for investors considering investing in the bank.\n",
        "3. Total Assets: Yes Bank's total assets have also been increasing steadily, indicating the bank's ability to attract and manage a larger pool of assets. This growth in assets can contribute to the bank's profitability and potential for future expansion.\n",
        "4. Stock News: Recent news about Yes Bank suggests that the stock has seen a marginal increase in price and has been holding steady. This stability in the stock price can be seen as a positive sign for investors, indicating a potential for future growth.\n",
        "5. Weak Underlying Business: However, it is important to note that there are concerns about the bank's weak underlying business, as indicated by the soft quarter expected in Q1. This may lead to a decline in profitability, which could impact the stock price in the short term.\n",
        "6. Overall Market Conditions: It is also important to consider the overall market conditions and the banking sector as a whole before making an investment decision. Factors such as economic conditions, regulatory changes, and competition can significantly impact the performance of Yes Bank and its stock price.\n",
        "Based on the available data and information, it can be concluded that investing in Yes Bank at this time carries"
      ],
      "metadata": {
        "id": "-K9_zZYYgBU9"
      }
    },
    {
      "cell_type": "markdown",
      "source": [
        "## Further improvemetns that can be done-\n",
        "a) More tools can be added. Fo eg. math tool to perform complex technical analysis\n",
        "b) More robust prompting for stable output\n",
        "c) Support of other opensource LLMS\n",
        "Note- Its a fun hobby project, I am not a finance expert, feel free to add any suggestions/ moodification"
      ],
      "metadata": {
        "id": "_Ck2mCH4gRUV"
      }
    },
    {
      "cell_type": "markdown",
      "source": [],
      "metadata": {
        "id": "y3uuZJpagTlG"
      }
    }
  ]
}